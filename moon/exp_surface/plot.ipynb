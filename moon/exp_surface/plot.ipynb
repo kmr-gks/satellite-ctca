{
 "cells": [
  {
   "cell_type": "code",
   "execution_count": null,
   "metadata": {},
   "outputs": [],
   "source": [
    "#%pip install emout\n",
    "import emout\n",
    "data = emout.Emout('output/3733175')\n",
    "data.phisp[-1, :, :, 256].plot()"
   ]
  },
  {
   "cell_type": "code",
   "execution_count": null,
   "metadata": {},
   "outputs": [],
   "source": [
    "import matplotlib.pyplot as plt\n",
    "data.nd1p[-1, 60, :, 128].plot()\n",
    "plt.xlim(34, 98)  # x軸の範囲を0から50に設定"
   ]
  },
  {
   "cell_type": "code",
   "execution_count": null,
   "metadata": {},
   "outputs": [],
   "source": [
    "data.phisp[-1, :, :, 128].plot(mode='cmap')\n",
    "#data.j2yz[-1, :, :, 128].plot(mode='stream')"
   ]
  },
  {
   "cell_type": "code",
   "execution_count": null,
   "metadata": {},
   "outputs": [],
   "source": [
    "\n",
    "import matplotlib.pyplot as plt\n",
    "#fig, ax = plt.subplots(figsize=(10, 5))\n",
    "# プロット\n",
    "data.phisp[-1, :, :, 128].plot()\n",
    "data.j1yz[-1, :, :, 128].plot(mode='stream', density=2.0)\n",
    "\n",
    "\n",
    "\n",
    "# 軸の範囲を指定\n",
    "plt.xlim(34, 98)  # x軸の範囲を0から50に設定\n",
    "plt.ylim(0, 64)  # y軸の範囲を-0.5から1.0に設定\n",
    "\n",
    "# 表示\n",
    "plt.show()"
   ]
  },
  {
   "cell_type": "code",
   "execution_count": null,
   "metadata": {},
   "outputs": [],
   "source": [
    "data.phisp[-1, :, :, 128].plot(mode='cmap')\n",
    "data.j1yz[-1, :, :, 128].plot(mode='stream')\n",
    "\n",
    "plt.xlim(0, 128)  # x軸の範囲を0から50に設定\n",
    "plt.ylim(0, 64)"
   ]
  },
  {
   "cell_type": "code",
   "execution_count": null,
   "metadata": {},
   "outputs": [],
   "source": [
    "\n",
    "\n",
    "import matplotlib.pyplot as plt\n",
    "#fig, ax = plt.subplots(figsize=(10, 5))\n",
    "# プロット\n",
    "data.phisp[-1, :, 128, :].plot()\n",
    "data.j1xz[-1, :, 128, :].plot(mode='stream', density=2.0)\n",
    "\n",
    "\n",
    "\n",
    "# 軸の範囲を指定\n",
    "plt.xlim(34, 98)  # x軸の範囲を0から50に設定\n",
    "plt.ylim(0, 64)  # y軸の範囲を-0.5から1.0に設定\n",
    "\n",
    "# 表示\n",
    "plt.show()"
   ]
  },
  {
   "cell_type": "code",
   "execution_count": null,
   "metadata": {},
   "outputs": [],
   "source": [
    "import matplotlib.pyplot as plt\n",
    "fig, ax = plt.subplots(figsize=(10, 5))\n",
    "# プロット\n",
    "data.nd2p[-1, :, 128, :].plot()\n",
    "#data.jxz[-1, :, 128, :].plot(mode='stream')\n",
    "\n",
    "# 軸の範囲を指定\n",
    "#plt.xlim(0, 256)  # x軸の範囲を0から50に設定\n",
    "#plt.ylim(-0.5, 1.0)  # y軸の範囲を-0.5から1.0に設定\n",
    "\n",
    "# 表示\n",
    "plt.show()"
   ]
  },
  {
   "cell_type": "code",
   "execution_count": null,
   "metadata": {},
   "outputs": [],
   "source": [
    "import matplotlib.pyplot as plt\n",
    "#fig, ax = plt.subplots(figsize=(5, 5))\n",
    "# プロット\n",
    "data.nd1p[-1, 60, :, :].plot()\n",
    "\n",
    "# 軸の範囲を指定\n",
    "plt.xlim(34, 98)  # x軸の範囲を0から50に設定\n",
    "plt.ylim(0, 128)  # y軸の範囲を-0.5から1.0に設定\n",
    "\n",
    "# 表示\n",
    "plt.show()"
   ]
  },
  {
   "cell_type": "code",
   "execution_count": null,
   "metadata": {},
   "outputs": [],
   "source": [
    "data.nd1p[-1, :, :, 128].plot()"
   ]
  },
  {
   "cell_type": "code",
   "execution_count": null,
   "metadata": {},
   "outputs": [],
   "source": [
    "data.nd1p[-1, :, 0, 0].plot()"
   ]
  },
  {
   "cell_type": "code",
   "execution_count": null,
   "metadata": {},
   "outputs": [],
   "source": [
    "data.nd2p[-1, 60, :, :].plot(vmin=0,vmax=6)"
   ]
  },
  {
   "cell_type": "code",
   "execution_count": null,
   "metadata": {},
   "outputs": [],
   "source": [
    "data.bx[-1, :, 0, :].plot()"
   ]
  }
 ],
 "metadata": {
  "kernelspec": {
   "display_name": "base",
   "language": "python",
   "name": "python3"
  },
  "language_info": {
   "codemirror_mode": {
    "name": "ipython",
    "version": 3
   },
   "file_extension": ".py",
   "mimetype": "text/x-python",
   "name": "python",
   "nbconvert_exporter": "python",
   "pygments_lexer": "ipython3",
   "version": "3.9.19"
  }
 },
 "nbformat": 4,
 "nbformat_minor": 2
}
