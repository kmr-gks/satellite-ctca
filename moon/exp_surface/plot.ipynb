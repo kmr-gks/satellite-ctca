{
 "cells": [
  {
   "cell_type": "code",
   "execution_count": null,
   "metadata": {},
   "outputs": [],
   "source": [
    "#%pip install emout\n",
    "import emout\n",
    "data = emout.Emout('output/3767226')\n",
    "data.phisp[-1, :, :, 256].val_si.plot()\n",
    "print(data.phisp[:].val_si.shape)"
   ]
  },
  {
   "cell_type": "code",
   "execution_count": null,
   "metadata": {},
   "outputs": [],
   "source": [
    "x, y, z = 128, 128, 60\n",
    "data.phisp[:, z, :, :].val_si.gifplot() # can generate time-series animation\n",
    "\n",
    "data.phisp[:, z, :, :].val_si.gifplot(axis=0) # Selectable data axes to animate\n",
    "# (if axis=0, the first axis, i.e. the time axis, is selected, by default axis=0)\n",
    "\n",
    "#data.phisp[:, z, :, :].val_si.gifplot(action='save', filename='phisp.gif') # for save on a file\n",
    "\n",
    "data.phisp[:, z, :, :].val_si.gifplot(action='to_html') # for display on jupyter"
   ]
  },
  {
   "cell_type": "code",
   "execution_count": null,
   "metadata": {},
   "outputs": [],
   "source": [
    "# If you want to annimation several data at once,\n",
    "# prepare multiple frame update objects for each data at first.\n",
    "updater0 = data.phisp[:, z, :, :].val_si.gifplot(action='frames', mode='cmap')\n",
    "updater1 = data.phisp[:, z, :, :].val_si.build_frame_updater(mode='cont') # == gifplot(action='frames', mode='cont')\n",
    "updater2 = data.nd1p[:, z, :, :].val_si.build_frame_updater(mode='cmap', vmin=1e-3, vmax=20, norm='log')\n",
    "updater3 = data.nd2p[:, z, :, :].val_si.build_frame_updater(mode='cmap', vmin=1e-3, vmax=20, norm='log')\n",
    "updater4 = data.j2xy[:, z, :, :].val_si.build_frame_updater(mode='stream')\n",
    "layout = [[[updater0, updater1], [updater2], [updater3, updater4]]]\n",
    "animator = updater0.to_animator(layout=layout) # create animator object from frame object (phisp: cmap+cont, nd1p: cmap, nd2p: cmap+current-stream)\n",
    "animator.plot(action='to_html') # write plot function like gifplot "
   ]
  },
  {
   "cell_type": "code",
   "execution_count": null,
   "metadata": {},
   "outputs": [],
   "source": [
    "import matplotlib.pyplot as plt\n",
    "data.nd1p[-1, z, :, x].val_si.plot()\n",
    "plt.xlim(34, 98)  # x軸の範囲を0から50に設定"
   ]
  },
  {
   "cell_type": "code",
   "execution_count": null,
   "metadata": {},
   "outputs": [],
   "source": [
    "data.phisp[-1, :, :, x].val_si.plot(mode='cmap')\n",
    "data.j2yz[-1, :, :, x].val_si.plot(mode='stream')"
   ]
  },
  {
   "cell_type": "code",
   "execution_count": null,
   "metadata": {},
   "outputs": [],
   "source": [
    "\n",
    "import matplotlib.pyplot as plt\n",
    "#fig, ax = plt.subplots(figsize=(10, 5))\n",
    "# プロット\n",
    "data.phisp[-1, :, :, x].val_si.plot()\n",
    "data.j1yz[-1, :, :, x].val_si.plot(mode='stream', density=2.0)\n",
    "\n",
    "\n",
    "\n",
    "# 表示\n",
    "plt.show()"
   ]
  },
  {
   "cell_type": "code",
   "execution_count": null,
   "metadata": {},
   "outputs": [],
   "source": [
    "data.phisp[-1, :, :, x].val_si.plot(mode='cmap')\n",
    "data.j1yz[-1, :, :, x].val_si.plot(mode='stream')\n",
    "\n",
    "plt.xlim(0, 128)  # x軸の範囲を0から50に設定\n",
    "plt.ylim(0, 64)"
   ]
  },
  {
   "cell_type": "code",
   "execution_count": null,
   "metadata": {},
   "outputs": [],
   "source": [
    "\n",
    "\n",
    "import matplotlib.pyplot as plt\n",
    "#fig, ax = plt.subplots(figsize=(10, 5))\n",
    "# プロット\n",
    "data.phisp[-1, :, y, :].val_si.plot()\n",
    "data.j1xz[-1, :, y, :].val_si.plot(mode='stream', density=2.0)\n",
    "\n",
    "\n",
    "\n",
    "# 軸の範囲を指定\n",
    "plt.xlim(34, 98)  # x軸の範囲を0から50に設定\n",
    "plt.ylim(0, 64)  # y軸の範囲を-0.5から1.0に設定\n",
    "\n",
    "# 表示\n",
    "plt.show()"
   ]
  },
  {
   "cell_type": "code",
   "execution_count": null,
   "metadata": {},
   "outputs": [],
   "source": [
    "import matplotlib.pyplot as plt\n",
    "fig, ax = plt.subplots(figsize=(10, 5))\n",
    "# プロット\n",
    "data.nd2p[-1, :, y, :].val_si.plot()\n",
    "data.jxz[-1, :, y, :].val_si.plot(mode='stream')\n",
    "# 軸の範囲を指定\n",
    "#plt.xlim(0, 256)  # x軸の範囲を0から50に設定\n",
    "#plt.ylim(-0.5, 1.0)  # y軸の範囲を-0.5から1.0に設定\n",
    "\n",
    "# 表示\n",
    "plt.show()"
   ]
  },
  {
   "cell_type": "code",
   "execution_count": null,
   "metadata": {},
   "outputs": [],
   "source": [
    "import matplotlib.pyplot as plt\n",
    "#fig, ax = plt.subplots(figsize=(5, 5))\n",
    "# プロット\n",
    "data.nd1p[-1, z, :, :].val_si.plot()\n",
    "\n",
    "# 軸の範囲を指定\n",
    "plt.xlim(34, 98)  # x軸の範囲を0から50に設定\n",
    "plt.ylim(0, 128)  # y軸の範囲を-0.5から1.0に設定\n",
    "\n",
    "# 表示\n",
    "plt.show()"
   ]
  },
  {
   "cell_type": "code",
   "execution_count": null,
   "metadata": {},
   "outputs": [],
   "source": [
    "data.nd1p[-1, :, :, x].val_si.plot()"
   ]
  },
  {
   "cell_type": "code",
   "execution_count": null,
   "metadata": {},
   "outputs": [],
   "source": [
    "data.nd1p[-1, :, y, x].val_si.plot()"
   ]
  },
  {
   "cell_type": "code",
   "execution_count": null,
   "metadata": {},
   "outputs": [],
   "source": [
    "data.nd2p[-1, z, :, :].val_si.plot(vmin=0,vmax=6)"
   ]
  },
  {
   "cell_type": "code",
   "execution_count": null,
   "metadata": {},
   "outputs": [],
   "source": [
    "data.bx[-1, :, y, :].val_si.plot()"
   ]
  }
 ],
 "metadata": {
  "kernelspec": {
   "display_name": "base",
   "language": "python",
   "name": "python3"
  },
  "language_info": {
   "codemirror_mode": {
    "name": "ipython",
    "version": 3
   },
   "file_extension": ".py",
   "mimetype": "text/x-python",
   "name": "python",
   "nbconvert_exporter": "python",
   "pygments_lexer": "ipython3",
   "version": "3.9.19"
  }
 },
 "nbformat": 4,
 "nbformat_minor": 2
}
